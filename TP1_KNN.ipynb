{
  "nbformat": 4,
  "nbformat_minor": 0,
  "metadata": {
    "colab": {
      "name": "TP1_KNN.ipynb",
      "provenance": [],
      "collapsed_sections": [],
      "toc_visible": true,
      "authorship_tag": "ABX9TyPaDu4jkJ0LuMIjyZNRtjz6",
      "include_colab_link": true
    },
    "kernelspec": {
      "name": "python3",
      "display_name": "Python 3"
    }
  },
  "cells": [
    {
      "cell_type": "markdown",
      "metadata": {
        "id": "view-in-github",
        "colab_type": "text"
      },
      "source": [
        "<a href=\"https://colab.research.google.com/github/PPatrickGU/ROB311/blob/master/TP1_KNN.ipynb\" target=\"_parent\"><img src=\"https://colab.research.google.com/assets/colab-badge.svg\" alt=\"Open In Colab\"/></a>"
      ]
    },
    {
      "cell_type": "markdown",
      "metadata": {
        "id": "wdYxnc-DMay2",
        "colab_type": "text"
      },
      "source": [
        "# **ROB311 TP1** \n",
        "\n",
        "**Writing the algorithm of KNN from scratch and verifying it with two data sets** \n",
        "\n",
        "*Author: Yan CHEN & Dajing GU*"
      ]
    },
    {
      "cell_type": "markdown",
      "metadata": {
        "id": "0xV-QGXXP9d5",
        "colab_type": "text"
      },
      "source": [
        "**1)**"
      ]
    },
    {
      "cell_type": "code",
      "metadata": {
        "id": "NBrao2f_p3o8",
        "colab_type": "code",
        "colab": {}
      },
      "source": [
        "import pandas as pd\n",
        "import numpy as np\n",
        "import matplotlib.pyplot as plt\n",
        "from sklearn.model_selection import train_test_split\n",
        "import math\n",
        "import itertools\n",
        "from sklearn.metrics import confusion_matrix\n",
        "%matplotlib inline"
      ],
      "execution_count": null,
      "outputs": []
    },
    {
      "cell_type": "code",
      "metadata": {
        "id": "LdgGe0NX8NAa",
        "colab_type": "code",
        "colab": {
          "base_uri": "https://localhost:8080/",
          "height": 246
        },
        "outputId": "b1da9d91-c4fb-4be1-ca16-15353fddcc12"
      },
      "source": [
        "# Assign the name of the attributes\n",
        "attribute_names = ['Clump Thickness', 'Uniformity of Cell Size', 'Uniformity of Cell Shape', 'Marginal Adhesion', 'Single Epithelial Cell Size',\n",
        "         'Bare Nuclei', 'Bland Chromatin', 'Normal Nucleoli', 'Mitoses', 'Class']\n",
        "data_path = \"./breast-cancer-wisconsin.data\"\n",
        "\n",
        "# Read dataset to Dataframe of Pandas\n",
        "dataset = pd.read_csv(data_path, names=attribute_names)\n",
        "\n",
        "\n",
        "# Eliminating the line of '?'\n",
        "print('Size before eliminating :', dataset.shape) # Shape before\n",
        "dataset.replace('?', np.nan, inplace=True)\n",
        "dataset.dropna(axis=0, how='any', inplace=True)\n",
        "print('Size after eliminating :', dataset.shape) # Shape after\n",
        "\n",
        "# Display the data\n",
        "dataset.head()\n"
      ],
      "execution_count": null,
      "outputs": [
        {
          "output_type": "stream",
          "text": [
            "Size before elinating : (699, 10)\n",
            "Size after elinating : (683, 10)\n"
          ],
          "name": "stdout"
        },
        {
          "output_type": "execute_result",
          "data": {
            "text/html": [
              "<div>\n",
              "<style scoped>\n",
              "    .dataframe tbody tr th:only-of-type {\n",
              "        vertical-align: middle;\n",
              "    }\n",
              "\n",
              "    .dataframe tbody tr th {\n",
              "        vertical-align: top;\n",
              "    }\n",
              "\n",
              "    .dataframe thead th {\n",
              "        text-align: right;\n",
              "    }\n",
              "</style>\n",
              "<table border=\"1\" class=\"dataframe\">\n",
              "  <thead>\n",
              "    <tr style=\"text-align: right;\">\n",
              "      <th></th>\n",
              "      <th>Clump Thickness</th>\n",
              "      <th>Uniformity of Cell Size</th>\n",
              "      <th>Uniformity of Cell Shape</th>\n",
              "      <th>Marginal Adhesion</th>\n",
              "      <th>Single Epithelial Cell Size</th>\n",
              "      <th>Bare Nuclei</th>\n",
              "      <th>Bland Chromatin</th>\n",
              "      <th>Normal Nucleoli</th>\n",
              "      <th>Mitoses</th>\n",
              "      <th>Class</th>\n",
              "    </tr>\n",
              "  </thead>\n",
              "  <tbody>\n",
              "    <tr>\n",
              "      <th>1000025</th>\n",
              "      <td>5</td>\n",
              "      <td>1</td>\n",
              "      <td>1</td>\n",
              "      <td>1</td>\n",
              "      <td>2</td>\n",
              "      <td>1</td>\n",
              "      <td>3</td>\n",
              "      <td>1</td>\n",
              "      <td>1</td>\n",
              "      <td>2</td>\n",
              "    </tr>\n",
              "    <tr>\n",
              "      <th>1002945</th>\n",
              "      <td>5</td>\n",
              "      <td>4</td>\n",
              "      <td>4</td>\n",
              "      <td>5</td>\n",
              "      <td>7</td>\n",
              "      <td>10</td>\n",
              "      <td>3</td>\n",
              "      <td>2</td>\n",
              "      <td>1</td>\n",
              "      <td>2</td>\n",
              "    </tr>\n",
              "    <tr>\n",
              "      <th>1015425</th>\n",
              "      <td>3</td>\n",
              "      <td>1</td>\n",
              "      <td>1</td>\n",
              "      <td>1</td>\n",
              "      <td>2</td>\n",
              "      <td>2</td>\n",
              "      <td>3</td>\n",
              "      <td>1</td>\n",
              "      <td>1</td>\n",
              "      <td>2</td>\n",
              "    </tr>\n",
              "    <tr>\n",
              "      <th>1016277</th>\n",
              "      <td>6</td>\n",
              "      <td>8</td>\n",
              "      <td>8</td>\n",
              "      <td>1</td>\n",
              "      <td>3</td>\n",
              "      <td>4</td>\n",
              "      <td>3</td>\n",
              "      <td>7</td>\n",
              "      <td>1</td>\n",
              "      <td>2</td>\n",
              "    </tr>\n",
              "    <tr>\n",
              "      <th>1017023</th>\n",
              "      <td>4</td>\n",
              "      <td>1</td>\n",
              "      <td>1</td>\n",
              "      <td>3</td>\n",
              "      <td>2</td>\n",
              "      <td>1</td>\n",
              "      <td>3</td>\n",
              "      <td>1</td>\n",
              "      <td>1</td>\n",
              "      <td>2</td>\n",
              "    </tr>\n",
              "  </tbody>\n",
              "</table>\n",
              "</div>"
            ],
            "text/plain": [
              "         Clump Thickness  Uniformity of Cell Size  ...  Mitoses  Class\n",
              "1000025                5                        1  ...        1      2\n",
              "1002945                5                        4  ...        1      2\n",
              "1015425                3                        1  ...        1      2\n",
              "1016277                6                        8  ...        1      2\n",
              "1017023                4                        1  ...        1      2\n",
              "\n",
              "[5 rows x 10 columns]"
            ]
          },
          "metadata": {
            "tags": []
          },
          "execution_count": 145
        }
      ]
    },
    {
      "cell_type": "code",
      "metadata": {
        "id": "_ne5br8BM_OQ",
        "colab_type": "code",
        "colab": {
          "base_uri": "https://localhost:8080/",
          "height": 50
        },
        "outputId": "6c1e565d-2af4-4fb3-9cf4-1eea9cb15123"
      },
      "source": [
        "# Seperate the features and the targets\n",
        "X = dataset.iloc[:, :-1] # Features\n",
        "y = dataset.iloc[:, -1] # Targets\n",
        "\n",
        "# Split up training data and test data with the percentage respectively 80%/20%\n",
        "X_train, X_test, y_train, y_test = train_test_split(X, y, test_size=0.4, random_state=1, stratify=y)\n",
        "\n",
        "print('training data size: ', X_train.shape)\n",
        "#print(X_train)\n",
        "print('test data size: ', X_test.shape)\n",
        "#X_test"
      ],
      "execution_count": null,
      "outputs": [
        {
          "output_type": "stream",
          "text": [
            "training data size:  (409, 9)\n",
            "test data size:  (274, 9)\n"
          ],
          "name": "stdout"
        }
      ]
    },
    {
      "cell_type": "code",
      "metadata": {
        "id": "UhY1Sts_0ilv",
        "colab_type": "code",
        "colab": {
          "base_uri": "https://localhost:8080/",
          "height": 803
        },
        "outputId": "3d8ee9fe-f517-4464-e6ca-4d9738546d7e"
      },
      "source": [
        "fig = plt.figure(figsize=(25, 18))\n",
        "for i in range(9):\n",
        "    plt.subplot(3, 3, i+1)  \n",
        "    plt.ylabel('Number of each case')\n",
        "    plt.xlabel(attribute_names[i]) \n",
        "    \n",
        "    value_list_2 = []  \n",
        "    count_list_2 = [] \n",
        "\n",
        "    values_2 = [item_x for item_x, item_y in zip(X.iloc[:, i].T, y) if int(item_y) == 2]\n",
        "\n",
        "    value_count_pair = pd.value_counts(values_2)  \n",
        "    for k in dict(value_count_pair):     # separate the features' values and their numbers respectively\n",
        "        value_list_2.append(k)\n",
        "        count_list_2.append(value_count_pair[k])\n",
        "    plt.bar(value_list_2, count_list_2, alpha=0.4, label='benign', fc='b')  # plot histograms of benign cancer\n",
        "    \n",
        "    # repeat above step for malignant cancer\n",
        "    value_list_4 = []\n",
        "    count_list_4 = []\n",
        "    values_4 = [item_x for item_x, item_y in zip(X.iloc[:, i].T, y) if int(item_y) == 4]\n",
        "    value_count_pair = pd.value_counts(values_4)\n",
        "    for i in dict(value_count_pair):\n",
        "        value_list_4.append(i)\n",
        "        count_list_4.append(value_count_pair[i])\n",
        "    plt.bar(value_list_4, count_list_4, alpha=0.4, label='malignant', fc='r')  \n",
        "\n",
        "    plt.legend()\n"
      ],
      "execution_count": null,
      "outputs": [
        {
          "output_type": "display_data",
          "data": {
            "image/png": "[encoded data removed]",
            "text/plain": [
              "<Figure size 1800x1296 with 9 Axes>"
            ]
          },
          "metadata": {
            "tags": [],
            "needs_background": "light"
          }
        }
      ]
    },
    {
      "cell_type": "code",
      "metadata": {
        "id": "VQhsZ_jBPNxK",
        "colab_type": "code",
        "colab": {}
      },
      "source": [
        "def euclideanDistance(instance1, instance2, length):\n",
        "  distance = 0\n",
        "  for i in range(length):\n",
        "    distance += pow((float(instance1[i]) - float(instance2[i])), 2)\n",
        "  return math.sqrt(distance)\n",
        "\n",
        "# a = np.array([[1,1,1])\n",
        "# b = np.array([0,0,0])\n",
        "# print(euclideanDistance(a,b,3))\n",
        "\n",
        "def getNeighbors(X_train, X_test, k):\n",
        "  distances = []\n",
        "  length = X_test.shape[0]-1\n",
        "  for i in range(len(X_train)):\n",
        "    dist = euclideanDistance(X_test, X_train[i], length)\n",
        "    distances.append(dist)\n",
        "  order = np.argsort(distances)\n",
        "  neighbors = order[:k]\n",
        "  return neighbors # list of the neighbors' index \n",
        "\n",
        "#print(getNeighbors([[3,3,3],[4,4,4]], [5,5,5], 2))\n",
        "\n",
        "def getResponse(neighbors, y_train):\n",
        "  classVotes = {}\n",
        "  for i in range(len(neighbors)):\n",
        "    response = y_train[neighbors[i]]\n",
        "    if response in classVotes:\n",
        "      classVotes[response] += 1\n",
        "    else:\n",
        "      classVotes[response] = 1  \n",
        "  sortedVotes = sorted(classVotes.items(), key=lambda item:item[1], reverse=True) \n",
        "  # print(sortedVotes)\n",
        "  return sortedVotes[0][0]\n",
        "\n",
        "def getAccuracy(testSet, predictions):\n",
        "  correct = 0\n",
        "  for x in range(testSet.shape[0]):\n",
        "    if testSet[x] == predictions[x]:\n",
        "      correct += 1\n",
        "      return (correct/float(testSet.shape[0])) * 100.0 \n"
      ],
      "execution_count": null,
      "outputs": []
    },
    {
      "cell_type": "code",
      "metadata": {
        "id": "jV1GcmQDdaB3",
        "colab_type": "code",
        "colab": {
          "base_uri": "https://localhost:8080/",
          "height": 50
        },
        "outputId": "a0c49cda-6392-44eb-8b2c-b82598d0f054"
      },
      "source": [
        "\n",
        "class_list = []        # a list used to store all predicted classification result\n",
        "K = 10                  # define K parameter\n",
        "\n",
        "X_train = np.array(X_train)\n",
        "X_test = np.array(X_test)\n",
        "y_train = np.array(y_train)\n",
        "y_test = np.array(y_test)\n",
        "\n",
        "for test_sample in X_test:\n",
        "    neighbors = getNeighbors(X_train, test_sample, K)\n",
        "    #print(neighbors)\n",
        "    res = getResponse(neighbors, y_train)\n",
        "    class_list.append(res)\n",
        "print('done')\n",
        "\n",
        "class_list = np.array(class_list)\n",
        "print(getAccuracy(y_test, class_list)) #some question about this result, perhaps need to be normalized"
      ],
      "execution_count": null,
      "outputs": [
        {
          "output_type": "stream",
          "text": [
            "done\n",
            "0.36496350364963503\n"
          ],
          "name": "stdout"
        }
      ]
    },
    {
      "cell_type": "code",
      "metadata": {
        "id": "7-X6qDwvnZ8O",
        "colab_type": "code",
        "colab": {
          "base_uri": "https://localhost:8080/",
          "height": 362
        },
        "outputId": "7f35c30f-3326-4870-bbb0-9b1eaf406a60"
      },
      "source": [
        "\n",
        "def plot_confusion_matrix(cm, classes, normalize=False, title='Confusion matrix', cmap=plt.cm.Blues):\n",
        "    \"\"\"\n",
        "    This function prints and plots the confusion matrix.\n",
        "    Normalization can be applied by setting `normalize=True`.\n",
        "    \"\"\"\n",
        "    if normalize:\n",
        "        cm = cm.astype('float') / cm.sum(axis=1)[:, np.newaxis]\n",
        "        print(\"Normalized confusion matrix\")\n",
        "    else:\n",
        "        print('Confusion matrix, without normalization')\n",
        "\n",
        "    print(cm)\n",
        "\n",
        "    plt.imshow(cm, interpolation='nearest', cmap=cmap)\n",
        "    plt.title(title)\n",
        "    plt.colorbar()\n",
        "    tick_marks = np.arange(len(classes))\n",
        "    plt.xticks(tick_marks, classes, rotation=45)\n",
        "    plt.yticks(tick_marks, classes)\n",
        "\n",
        "    fmt = '.2f' if normalize else 'd'\n",
        "    thresh = cm.max() / 2.\n",
        "    for i, j in itertools.product(range(cm.shape[0]), range(cm.shape[1])):\n",
        "        plt.text(j, i, format(cm[i, j], fmt),\n",
        "                 horizontalalignment=\"center\",\n",
        "                 verticalalignment='top',\n",
        "                 color=\"white\" if cm[i, j] > thresh else \"black\")\n",
        "\n",
        "    plt.tight_layout()\n",
        "\n",
        "    plt.ylabel('True label')\n",
        "    plt.xlabel('Predicted label')\n",
        "    plt.show()  \n",
        "    \n",
        "cm = confusion_matrix(y_test, class_list)\n",
        "class_names = ['Benign', 'Malignant']\n",
        "plot_confusion_matrix(cm, classes=class_names, normalize=True,\n",
        "                      title='Normalized Confusion Matrix')"
      ],
      "execution_count": null,
      "outputs": [
        {
          "output_type": "stream",
          "text": [
            "Normalized confusion matrix\n",
            "[[0.97191011 0.02808989]\n",
            " [0.02083333 0.97916667]]\n"
          ],
          "name": "stdout"
        },
        {
          "output_type": "display_data",
          "data": {
            "image/png": "[encoded data removed]",
            "text/plain": [
              "<Figure size 432x288 with 2 Axes>"
            ]
          },
          "metadata": {
            "tags": [],
            "needs_background": "light"
          }
        }
      ]
    }
  ]
}