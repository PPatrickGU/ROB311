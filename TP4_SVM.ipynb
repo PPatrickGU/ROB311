{
  "nbformat": 4,
  "nbformat_minor": 0,
  "metadata": {
    "colab": {
      "name": "TP4_SVM.ipynb",
      "provenance": [],
      "collapsed_sections": [],
      "toc_visible": true,
      "include_colab_link": true
    },
    "kernelspec": {
      "name": "python3",
      "display_name": "Python 3"
    }
  },
  "cells": [
    {
      "cell_type": "markdown",
      "metadata": {
        "id": "view-in-github",
        "colab_type": "text"
      },
      "source": [
        "<a href=\"https://colab.research.google.com/github/PPatrickGU/ROB311/blob/master/TP4_SVM.ipynb\" target=\"_parent\"><img src=\"https://colab.research.google.com/assets/colab-badge.svg\" alt=\"Open In Colab\"/></a>"
      ]
    },
    {
      "cell_type": "markdown",
      "metadata": {
        "id": "wdYxnc-DMay2"
      },
      "source": [
        "# **ROB311 TP4** \n",
        "\n",
        "### **Implementation of the algorithm of SVM to identify the handwriting number** \n",
        "\n",
        "*Author: Yan CHEN & Dajing GU*"
      ]
    },
    {
      "cell_type": "code",
      "metadata": {
        "id": "NBrao2f_p3o8"
      },
      "source": [
        "import pandas as pd\n",
        "import numpy as np\n",
        "import itertools\n",
        "import operator\n",
        "import matplotlib.pyplot as plt\n",
        "from sklearn.model_selection import GridSearchCV\n",
        "from sklearn.svm import SVC\n",
        "from sklearn.decomposition import PCA\n",
        "from sklearn.pipeline import make_pipeline\n",
        "from sklearn.preprocessing import StandardScaler\n",
        "from sklearn.metrics import classification_report, confusion_matrix\n",
        "%matplotlib inline"
      ],
      "execution_count": 19,
      "outputs": []
    },
    {
      "cell_type": "markdown",
      "metadata": {
        "id": "Xjq54LQWHoI5"
      },
      "source": [
        "### **Useful function**"
      ]
    },
    {
      "cell_type": "code",
      "metadata": {
        "id": "A5_Wgu4KHnWS"
      },
      "source": [
        "def data_loading(path):\n",
        "    dataset = pd.read_csv(path)\n",
        "    data = dataset.iloc[:, 1:]\n",
        "    label = dataset.iloc[:, 0]\n",
        "    return data, label\n",
        "\n",
        "# Reference : https://blog.csdn.net/u012193416/article/details/79469770\n",
        "def plot_confusion_matrix(cm, classes, normalize=False, cmap=plt.cm.Blues):\n",
        "    \"\"\"\n",
        "    This function prints and plots the confusion matrix.\n",
        "    Normalization can be applied by setting `normalize=True`.\n",
        "    \"\"\"\n",
        "    if normalize:\n",
        "        cm = cm.astype('float') / cm.sum(axis=1)[:, np.newaxis]\n",
        "        title = 'Normalized confusion matrix'\n",
        "        print(\"Normalized confusion matrix\")\n",
        "    else:\n",
        "        title = 'Confusion matrix without normalization'\n",
        "        print('Confusion matrix without normalization')\n",
        "\n",
        "    plt.imshow(cm, interpolation='nearest', cmap=cmap)\n",
        "    plt.title(title)\n",
        "    plt.colorbar()\n",
        "    tick_marks = np.arange(len(classes))\n",
        "    plt.xticks(tick_marks, classes, rotation=0)\n",
        "    plt.yticks(tick_marks, classes)\n",
        "\n",
        "    fmt = '.2f' if normalize else 'd'\n",
        "    thresh = cm.max() / 2.\n",
        "    for i, j in itertools.product(range(cm.shape[0]), range(cm.shape[1])):\n",
        "        plt.text(j, i, format(cm[i, j], fmt),\n",
        "                 horizontalalignment=\"center\",\n",
        "                 verticalalignment='top',\n",
        "                 color=\"white\" if cm[i, j] > thresh else \"black\")\n",
        "\n",
        "    plt.tight_layout()\n",
        "\n",
        "    plt.ylabel('True label')\n",
        "    plt.xlabel('Predicted label')\n",
        "    plt.show()  \n",
        "\n",
        "def getAccuracy(testSet, predictions):\n",
        "  correct = 0\n",
        "  for x in range(testSet.shape[0]):\n",
        "    if testSet[x] == predictions[x]:\n",
        "      correct += 1\n",
        "  print(\"\\n Accuracy: %.2f%% \\n\" %float(correct/len(predictions)*100))\n",
        "\n",
        "def getResult(prediction_label, test_label):\n",
        "    cm = confusion_matrix(test_label, prediction_label)\n",
        "    print(\"classification report : \", \"\\n\", classification_report(test_label, prediction_label))\n",
        "    print(\"\\n\", \"confusion matrix:\", \"\\n\", cm, \"\\n\")\n",
        "    getAccuracy(prediction_label, test_label)\n",
        "    label_names = ['0', '1', '2', '3', '4', '5', '6', '7', '8', '9']\n",
        "    plot_confusion_matrix(cm, classes=label_names, normalize=True)\n",
        "\n"
      ],
      "execution_count": 20,
      "outputs": []
    },
    {
      "cell_type": "markdown",
      "metadata": {
        "id": "nDb_CjF_2k7v"
      },
      "source": [
        "### **Data loading**"
      ]
    },
    {
      "cell_type": "code",
      "metadata": {
        "id": "LdgGe0NX8NAa"
      },
      "source": [
        "train_path = \"./mnist_train.csv\"\n",
        "test_path = \"./mnist_test.csv\"\n",
        "train_data, train_target = data_loading(train_path)\n",
        "test_data, test_target = data_loading(test_path)\n"
      ],
      "execution_count": 21,
      "outputs": []
    },
    {
      "cell_type": "markdown",
      "metadata": {
        "id": "9xgKSASAGatL"
      },
      "source": [
        "### **I）A simple implementation of the algorithm**\n"
      ]
    },
    {
      "cell_type": "code",
      "metadata": {
        "id": "jV1GcmQDdaB3",
        "outputId": "583b0045-092d-4326-937f-fdd8a6b30d54",
        "colab": {
          "base_uri": "https://localhost:8080/"
        }
      },
      "source": [
        "pca = PCA(n_components=100)\n",
        "print(\"data size before PCA:\", train_data.shape)\n",
        "pca.fit(train_data)\n",
        "train_data_PCA = pca.transform(train_data)\n",
        "test_data_PCA = pca.transform(test_data)\n",
        "print('data size after PCA: ' ,train_data_PCA.shape)"
      ],
      "execution_count": 22,
      "outputs": [
        {
          "output_type": "stream",
          "text": [
            "data size before PCA: (60000, 784)\n",
            "data size after PCA:  (60000, 100)\n"
          ],
          "name": "stdout"
        }
      ]
    },
    {
      "cell_type": "code",
      "metadata": {
        "id": "UGBUnpGjMYZ1",
        "outputId": "935cc2ae-0445-434c-acb2-c7485521ff2b",
        "colab": {
          "base_uri": "https://localhost:8080/",
          "height": 938
        }
      },
      "source": [
        "clf = SVC()\n",
        "clf.fit(train_data_PCA, train_target)\n",
        "prediction = clf.predict(test_data_PCA)\n",
        "getResult(prediction, test_target)"
      ],
      "execution_count": 23,
      "outputs": [
        {
          "output_type": "stream",
          "text": [
            "classification report :  \n",
            "               precision    recall  f1-score   support\n",
            "\n",
            "           0       0.98      0.99      0.99       980\n",
            "           1       0.99      0.99      0.99      1135\n",
            "           2       0.98      0.98      0.98      1032\n",
            "           3       0.98      0.99      0.99      1010\n",
            "           4       0.99      0.98      0.98       982\n",
            "           5       0.99      0.99      0.99       892\n",
            "           6       0.99      0.99      0.99       958\n",
            "           7       0.98      0.98      0.98      1028\n",
            "           8       0.98      0.98      0.98       974\n",
            "           9       0.98      0.97      0.98      1009\n",
            "\n",
            "    accuracy                           0.98     10000\n",
            "   macro avg       0.98      0.98      0.98     10000\n",
            "weighted avg       0.98      0.98      0.98     10000\n",
            "\n",
            "\n",
            " confusion matrix: \n",
            " [[ 974    0    1    0    0    2    0    1    2    0]\n",
            " [   0 1128    3    1    0    1    1    0    1    0]\n",
            " [   5    0 1014    0    1    0    1    7    4    0]\n",
            " [   0    0    2  996    0    3    0    5    3    1]\n",
            " [   0    0    3    0  964    0    4    0    1   10]\n",
            " [   2    0    0    6    0  879    2    1    1    1]\n",
            " [   5    2    0    0    2    3  945    0    1    0]\n",
            " [   0    5    9    1    0    0    0 1007    1    5]\n",
            " [   2    0    2    3    2    2    2    2  957    2]\n",
            " [   2    3    1    5    8    2    1    5    3  979]] \n",
            "\n",
            "\n",
            " Accuracy: 98.43% \n",
            "\n",
            "Normalized confusion matrix\n"
          ],
          "name": "stdout"
        },
        {
          "output_type": "display_data",
          "data": {
            "image/png": "[encoded data removed]",
            "text/plain": [
              "<Figure size 432x288 with 2 Axes>"
            ]
          },
          "metadata": {
            "tags": [],
            "needs_background": "light"
          }
        }
      ]
    },
    {
      "cell_type": "markdown",
      "metadata": {
        "id": "FyK7PMDBHwTJ"
      },
      "source": [
        "### **II) A better implementation using make_pipeline**"
      ]
    },
    {
      "cell_type": "code",
      "metadata": {
        "id": "XB67Zk4kH18I",
        "outputId": "574a3271-aa54-46be-f8fb-3df094927ed1",
        "colab": {
          "base_uri": "https://localhost:8080/",
          "height": 938
        }
      },
      "source": [
        "pca = PCA(n_components=100, whiten=True)\n",
        "svc = SVC(kernel='rbf', class_weight='balanced')\n",
        "model = make_pipeline(pca, StandardScaler(), svc)\n",
        "model.fit(train_data, train_target)\n",
        "prediction = model.predict(test_data)\n",
        "getResult(prediction, test_target)"
      ],
      "execution_count": 24,
      "outputs": [
        {
          "output_type": "stream",
          "text": [
            "classification report :  \n",
            "               precision    recall  f1-score   support\n",
            "\n",
            "           0       0.98      0.99      0.99       980\n",
            "           1       0.99      0.99      0.99      1135\n",
            "           2       0.97      0.98      0.98      1032\n",
            "           3       0.98      0.98      0.98      1010\n",
            "           4       0.98      0.98      0.98       982\n",
            "           5       0.98      0.98      0.98       892\n",
            "           6       0.99      0.99      0.99       958\n",
            "           7       0.98      0.98      0.98      1028\n",
            "           8       0.98      0.98      0.98       974\n",
            "           9       0.98      0.96      0.97      1009\n",
            "\n",
            "    accuracy                           0.98     10000\n",
            "   macro avg       0.98      0.98      0.98     10000\n",
            "weighted avg       0.98      0.98      0.98     10000\n",
            "\n",
            "\n",
            " confusion matrix: \n",
            " [[ 973    0    1    1    0    0    3    0    2    0]\n",
            " [   0 1124    2    1    1    2    2    1    2    0]\n",
            " [   1    2 1014    1    1    0    1    3    8    1]\n",
            " [   0    0    7  986    0    6    0    5    5    1]\n",
            " [   0    0    6    0  963    0    2    0    1   10]\n",
            " [   2    0    0    6    0  878    3    0    3    0]\n",
            " [   5    2    0    1    2    2  946    0    0    0]\n",
            " [   0    4   12    2    0    1    0 1003    0    6]\n",
            " [   3    0    1    3    2    3    1    4  955    2]\n",
            " [   4    2    2    7   12    4    0    7    2  969]] \n",
            "\n",
            "\n",
            " Accuracy: 98.11% \n",
            "\n",
            "Normalized confusion matrix\n"
          ],
          "name": "stdout"
        },
        {
          "output_type": "display_data",
          "data": {
            "image/png": "[encoded data removed]",
            "text/plain": [
              "<Figure size 432x288 with 2 Axes>"
            ]
          },
          "metadata": {
            "tags": [],
            "needs_background": "light"
          }
        }
      ]
    },
    {
      "cell_type": "markdown",
      "metadata": {
        "id": "8HGcfCCyinrP"
      },
      "source": [
        "### **III) A try with the grid_search**"
      ]
    },
    {
      "cell_type": "code",
      "metadata": {
        "id": "omgGkDYxi2Ev"
      },
      "source": [
        "def svm_test(test_path, clf):\n",
        "    test_data, test_label = data_loading(test_path)\n",
        "    prediction_label = clf.predict(test_data)\n",
        "    return prediction_label, test_label\n",
        "\n",
        "def svm_train_pca(train_path, svc_kernel = 'rbf', gridsearchcv = False):\n",
        "    train_data, train_label = data_loading(train_path)\n",
        "    pca = PCA(n_components=100, whiten=True)\n",
        "    svc = SVC(kernel=svc_kernel, class_weight='balanced')\n",
        "    clf = make_pipeline(pca, svc)\n",
        "    if gridsearchcv == True:\n",
        "        parameters = {'svc__kernel':('linear', 'rbf', 'poly', 'sigmoid'), 'svc__C':[1, 10]}\n",
        "        clf = GridSearchCV(clf, parameters)\n",
        "        clf.fit(train_data, train_label)\n",
        "        print(\"The best parameters and best score: \\n\", clf.best_params_, clf.best_score_)\n",
        "    else:\n",
        "        clf.fit(train_data, train_label)\n",
        "    return clf\n"
      ],
      "execution_count": 27,
      "outputs": []
    },
    {
      "cell_type": "markdown",
      "metadata": {
        "id": "1_5v9VBijFrz"
      },
      "source": [
        "**Train**"
      ]
    },
    {
      "cell_type": "code",
      "metadata": {
        "id": "vqCLQUZRRU_U",
        "outputId": "e71929bd-38b6-40ec-d6a5-38e542a3aa48",
        "colab": {
          "base_uri": "https://localhost:8080/"
        }
      },
      "source": [
        "clf = svm_train_pca(train_path, gridsearchcv=True)\n",
        "prediction, test_label = svm_test(test_path, clf)\n",
        "getResult(prediction, test_label)"
      ],
      "execution_count": 28,
      "outputs": [
        {
          "output_type": "stream",
          "text": [
            "The best parameters and best score: \n",
            " {'svc__C': 10, 'svc__kernel': 'rbf'} 0.97955\n"
          ],
          "name": "stdout"
        }
      ]
    },
    {
      "cell_type": "markdown",
      "metadata": {
        "id": "VAHvIAJ8HYzO"
      },
      "source": [
        "**Test and Result**"
      ]
    },
    {
      "cell_type": "code",
      "metadata": {
        "id": "vb0mRUijHQ_H",
        "outputId": "a493f9a7-4a5d-4ff5-cac3-d41d9b8cb52d",
        "colab": {
          "base_uri": "https://localhost:8080/",
          "height": 938
        }
      },
      "source": [
        "prediction, test_label = svm_test(test_path, clf)\n",
        "getResult(prediction, test_label)"
      ],
      "execution_count": 29,
      "outputs": [
        {
          "output_type": "stream",
          "text": [
            "classification report :  \n",
            "               precision    recall  f1-score   support\n",
            "\n",
            "           0       0.98      0.99      0.99       980\n",
            "           1       0.99      0.99      0.99      1135\n",
            "           2       0.97      0.98      0.98      1032\n",
            "           3       0.98      0.98      0.98      1010\n",
            "           4       0.98      0.98      0.98       982\n",
            "           5       0.98      0.99      0.98       892\n",
            "           6       0.99      0.99      0.99       958\n",
            "           7       0.98      0.98      0.98      1028\n",
            "           8       0.98      0.98      0.98       974\n",
            "           9       0.98      0.96      0.97      1009\n",
            "\n",
            "    accuracy                           0.98     10000\n",
            "   macro avg       0.98      0.98      0.98     10000\n",
            "weighted avg       0.98      0.98      0.98     10000\n",
            "\n",
            "\n",
            " confusion matrix: \n",
            " [[ 974    0    1    1    0    0    2    0    2    0]\n",
            " [   0 1127    3    1    1    1    1    0    1    0]\n",
            " [   2    1 1014    1    1    0    1    4    7    1]\n",
            " [   0    0    7  987    0    5    0    5    5    1]\n",
            " [   0    0    6    0  965    0    1    0    1    9]\n",
            " [   1    0    1    7    0  879    3    0    1    0]\n",
            " [   5    2    0    0    3    3  945    0    0    0]\n",
            " [   0    5   11    2    2    1    0 1004    0    3]\n",
            " [   3    0    1    2    1    3    1    3  958    2]\n",
            " [   4    2    2    6   10    4    0    7    3  971]] \n",
            "\n",
            "\n",
            " Accuracy: 98.24% \n",
            "\n",
            "Normalized confusion matrix\n"
          ],
          "name": "stdout"
        },
        {
          "output_type": "display_data",
          "data": {
            "image/png": "[encoded data removed]",
            "text/plain": [
              "<Figure size 432x288 with 2 Axes>"
            ]
          },
          "metadata": {
            "tags": [],
            "needs_background": "light"
          }
        }
      ]
    }
  ]
}