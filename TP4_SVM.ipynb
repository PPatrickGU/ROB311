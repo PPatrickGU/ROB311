{
  "nbformat": 4,
  "nbformat_minor": 0,
  "metadata": {
    "colab": {
      "name": "TP4_SVM.ipynb",
      "provenance": [],
      "collapsed_sections": [],
      "toc_visible": true,
      "include_colab_link": true
    },
    "kernelspec": {
      "name": "python3",
      "display_name": "Python 3"
    }
  },
  "cells": [
    {
      "cell_type": "markdown",
      "metadata": {
        "id": "view-in-github",
        "colab_type": "text"
      },
      "source": [
        "<a href=\"https://colab.research.google.com/github/PPatrickGU/ROB311/blob/master/TP4_SVM.ipynb\" target=\"_parent\"><img src=\"https://colab.research.google.com/assets/colab-badge.svg\" alt=\"Open In Colab\"/></a>"
      ]
    },
    {
      "cell_type": "markdown",
      "metadata": {
        "id": "wdYxnc-DMay2"
      },
      "source": [
        "**ROB311 TP4** \n",
        "\n",
        "**Implementation of the algorithm of SVM to identify the handwriting number** \n",
        "\n",
        "*Author: Yan CHEN & Dajing GU*"
      ]
    },
    {
      "cell_type": "code",
      "metadata": {
        "id": "NBrao2f_p3o8"
      },
      "source": [
        "import pandas as pd\n",
        "import numpy as np\n",
        "import matplotlib.pyplot as plt\n",
        "import math\n",
        "import itertools\n",
        "from sklearn.metrics import classification_report, confusion_matrix\n",
        "import operator\n",
        "\n",
        "from sklearn.svm import SVC\n",
        "from sklearn.decomposition import PCA\n",
        "from sklearn.pipeline import make_pipeline\n",
        "from sklearn.preprocessing import StandardScaler\n",
        "%matplotlib inline"
      ],
      "execution_count": 4,
      "outputs": []
    },
    {
      "cell_type": "markdown",
      "metadata": {
        "id": "nDb_CjF_2k7v"
      },
      "source": [
        "**Data loading**"
      ]
    },
    {
      "cell_type": "code",
      "metadata": {
        "id": "LdgGe0NX8NAa",
        "outputId": "0be3e1b2-6b3f-4beb-cc6f-3b00190e5a12",
        "colab": {
          "base_uri": "https://localhost:8080/",
          "height": 67
        }
      },
      "source": [
        "# Assign the name of the attributes\n",
        "\n",
        "train_path = \"./mnist_train.csv\"\n",
        "test_path = \"./mnist_test.csv\"\n",
        "\n",
        "# Read dataset to Dataframe of Pandas\n",
        "trainset = pd.read_csv(train_path)\n",
        "testset = pd.read_csv(test_path)\n",
        "\n",
        "# Display the data\n",
        "trainset.head()\n",
        "\n",
        "# Seperate the features and the targets\n",
        "train_data = trainset.iloc[:, 1:] # Features\n",
        "train_target = trainset.iloc[:, 0] # Labels\n",
        "\n",
        "train_size = train_target.shape[0] \n",
        "\n",
        "test_data = testset.iloc[:, 1:] # Features\n",
        "test_target = testset.iloc[:, 0] # Labels\n",
        "\n",
        "test_size = test_target.shape[0] \n",
        "\n",
        "print('train_data size: ', train_data.shape)\n",
        "print('train_target size: ', train_target.shape)\n",
        "print(train_size)"
      ],
      "execution_count": 17,
      "outputs": [
        {
          "output_type": "stream",
          "text": [
            "train_data size:  (60000, 784)\n",
            "train_target size:  (60000,)\n",
            "60000\n"
          ],
          "name": "stdout"
        }
      ]
    },
    {
      "cell_type": "markdown",
      "metadata": {
        "id": "Xjq54LQWHoI5"
      },
      "source": [
        "**Useful function**"
      ]
    },
    {
      "cell_type": "code",
      "metadata": {
        "id": "A5_Wgu4KHnWS"
      },
      "source": [
        "# Reference : https://blog.csdn.net/u012193416/article/details/79469770\n",
        "def plot_confusion_matrix(cm, classes, normalize=False, cmap=plt.cm.Blues):\n",
        "    \"\"\"\n",
        "    This function prints and plots the confusion matrix.\n",
        "    Normalization can be applied by setting `normalize=True`.\n",
        "    \"\"\"\n",
        "    if normalize:\n",
        "        cm = cm.astype('float') / cm.sum(axis=1)[:, np.newaxis]\n",
        "        title = 'Normalized confusion matrix'\n",
        "        print(\"Normalized confusion matrix\")\n",
        "    else:\n",
        "        title = 'Confusion matrix without normalization'\n",
        "        print('Confusion matrix without normalization')\n",
        "\n",
        "    plt.imshow(cm, interpolation='nearest', cmap=cmap)\n",
        "    plt.title(title)\n",
        "    plt.colorbar()\n",
        "    tick_marks = np.arange(len(classes))\n",
        "    plt.xticks(tick_marks, classes, rotation=0)\n",
        "    plt.yticks(tick_marks, classes)\n",
        "\n",
        "    fmt = '.2f' if normalize else 'd'\n",
        "    thresh = cm.max() / 2.\n",
        "    for i, j in itertools.product(range(cm.shape[0]), range(cm.shape[1])):\n",
        "        plt.text(j, i, format(cm[i, j], fmt),\n",
        "                 horizontalalignment=\"center\",\n",
        "                 verticalalignment='top',\n",
        "                 color=\"white\" if cm[i, j] > thresh else \"black\")\n",
        "\n",
        "    plt.tight_layout()\n",
        "\n",
        "    plt.ylabel('True label')\n",
        "    plt.xlabel('Predicted label')\n",
        "    plt.show()  \n",
        "\n",
        "def getAccuracy(testSet, predictions):\n",
        "  correct = 0\n",
        "  for x in range(testSet.shape[0]):\n",
        "    if testSet[x] == predictions[x]:\n",
        "      correct += 1\n",
        "  return (correct/float(testSet.shape[0])) * 100.0 "
      ],
      "execution_count": 23,
      "outputs": []
    },
    {
      "cell_type": "markdown",
      "metadata": {
        "id": "9xgKSASAGatL"
      },
      "source": [
        "**I）A simple implementation of the algorithm**\n"
      ]
    },
    {
      "cell_type": "code",
      "metadata": {
        "id": "jV1GcmQDdaB3",
        "outputId": "7a2bb88d-f405-46db-b907-eec92d5d02d3",
        "colab": {
          "base_uri": "https://localhost:8080/",
          "height": 50
        }
      },
      "source": [
        "pca = PCA(n_components=100)\n",
        "\n",
        "print(\"data size before PCA:\", train_data.shape)\n",
        "pca.fit(train_data)\n",
        "train_data_PCA = pca.transform(train_data)\n",
        "test_data_PCA = pca.transform(test_data)\n",
        "print('data size after PCA: ' ,train_data_PCA.shape)"
      ],
      "execution_count": 8,
      "outputs": [
        {
          "output_type": "stream",
          "text": [
            "data size before PCA: (60000, 784)\n",
            "data size after PCA:  (60000, 100)\n"
          ],
          "name": "stdout"
        }
      ]
    },
    {
      "cell_type": "code",
      "metadata": {
        "id": "UGBUnpGjMYZ1"
      },
      "source": [
        "clf = SVC()\n",
        "clf.fit(train_data_PCA, train_target)\n",
        "prediction = clf.predict(test_data_PCA)\n"
      ],
      "execution_count": 9,
      "outputs": []
    },
    {
      "cell_type": "code",
      "metadata": {
        "id": "7-X6qDwvnZ8O",
        "outputId": "6dd0e834-d2f0-4bea-95a8-5e30400eedf2",
        "colab": {
          "base_uri": "https://localhost:8080/",
          "height": 882
        }
      },
      "source": [
        "cm = confusion_matrix(test_target, prediction)\n",
        "\n",
        "print(\"classification report : \\n\", classification_report(test_target, prediction))\n",
        "print(\"\\n confusion matrix: \\n\", confusion_matrix(test_target, prediction))\n",
        "print(\"\\n Accuracy: %.2f%% \\n\" %getAccuracy(test_target, prediction))\n",
        "\n",
        "\n",
        "class_names = [0,1,2,3,4,5,6,7,8,9]\n",
        "plot_confusion_matrix(cm, classes=class_names, normalize=True)"
      ],
      "execution_count": 29,
      "outputs": [
        {
          "output_type": "stream",
          "text": [
            "classification report : \n",
            "               precision    recall  f1-score   support\n",
            "\n",
            "           0       0.98      0.99      0.99       980\n",
            "           1       0.99      0.99      0.99      1135\n",
            "           2       0.98      0.98      0.98      1032\n",
            "           3       0.99      0.99      0.99      1010\n",
            "           4       0.99      0.98      0.98       982\n",
            "           5       0.99      0.99      0.99       892\n",
            "           6       0.99      0.99      0.99       958\n",
            "           7       0.98      0.98      0.98      1028\n",
            "           8       0.98      0.98      0.98       974\n",
            "           9       0.98      0.97      0.98      1009\n",
            "\n",
            "    accuracy                           0.98     10000\n",
            "   macro avg       0.98      0.98      0.98     10000\n",
            "weighted avg       0.98      0.98      0.98     10000\n",
            "\n",
            "\n",
            " confusion matrix: \n",
            " [[ 974    0    1    0    0    2    0    1    2    0]\n",
            " [   0 1128    3    1    0    1    1    0    1    0]\n",
            " [   5    0 1014    0    1    0    1    7    4    0]\n",
            " [   0    0    2  996    0    3    0    5    3    1]\n",
            " [   0    0    3    0  964    0    4    0    1   10]\n",
            " [   2    0    0    5    0  880    2    1    1    1]\n",
            " [   5    2    0    0    2    3  945    0    1    0]\n",
            " [   0    5    9    1    0    0    0 1007    1    5]\n",
            " [   2    0    2    3    2    2    2    2  957    2]\n",
            " [   3    3    1    5    8    2    1    5    2  979]]\n",
            "\n",
            " Accuracy: 98.44% \n",
            "\n",
            "Normalized confusion matrix\n"
          ],
          "name": "stdout"
        },
        {
          "output_type": "display_data",
          "data": {
            "image/png": "[encoded data removed]",
            "text/plain": [
              "<Figure size 432x288 with 2 Axes>"
            ]
          },
          "metadata": {
            "tags": [],
            "needs_background": "light"
          }
        }
      ]
    },
    {
      "cell_type": "markdown",
      "metadata": {
        "id": "FyK7PMDBHwTJ"
      },
      "source": [
        "**II) A better implementation**"
      ]
    },
    {
      "cell_type": "code",
      "metadata": {
        "id": "XB67Zk4kH18I",
        "outputId": "30f70001-c1d5-447c-bc69-2a9fed66e601",
        "colab": {
          "base_uri": "https://localhost:8080/",
          "height": 882
        }
      },
      "source": [
        "pca = PCA(n_components=100, whiten=True)\n",
        "svc = SVC(kernel='rbf', class_weight='balanced')\n",
        "model = make_pipeline(pca, StandardScaler(), svc)\n",
        "model.fit(train_data, train_target)\n",
        "prediction = model.predict(test_data)\n",
        "\n",
        "cm = confusion_matrix(test_target, prediction)\n",
        "\n",
        "print(\"classification report : \\n\", classification_report(test_target, prediction))\n",
        "print(\"\\n confusion matrix: \\n\", confusion_matrix(test_target, prediction))\n",
        "print(\"\\n Accuracy: %.2f%% \\n\" %getAccuracy(test_target, prediction))\n",
        "\n",
        "class_names = [0,1,2,3,4,5,6,7,8,9]\n",
        "plot_confusion_matrix(cm, classes=class_names, normalize=True)"
      ],
      "execution_count": 30,
      "outputs": [
        {
          "output_type": "stream",
          "text": [
            "classification report : \n",
            "               precision    recall  f1-score   support\n",
            "\n",
            "           0       0.98      0.99      0.99       980\n",
            "           1       0.99      0.99      0.99      1135\n",
            "           2       0.97      0.98      0.97      1032\n",
            "           3       0.98      0.98      0.98      1010\n",
            "           4       0.98      0.98      0.98       982\n",
            "           5       0.98      0.98      0.98       892\n",
            "           6       0.99      0.99      0.99       958\n",
            "           7       0.98      0.98      0.98      1028\n",
            "           8       0.98      0.98      0.98       974\n",
            "           9       0.98      0.96      0.97      1009\n",
            "\n",
            "    accuracy                           0.98     10000\n",
            "   macro avg       0.98      0.98      0.98     10000\n",
            "weighted avg       0.98      0.98      0.98     10000\n",
            "\n",
            "\n",
            " confusion matrix: \n",
            " [[ 973    0    1    1    0    0    3    0    2    0]\n",
            " [   0 1124    2    1    1    1    2    1    3    0]\n",
            " [   2    2 1012    1    1    0    1    5    7    1]\n",
            " [   0    0    6  987    0    6    0    5    5    1]\n",
            " [   0    0    6    0  961    0    2    0    1   12]\n",
            " [   2    0    1    7    0  876    3    0    3    0]\n",
            " [   4    2    0    0    3    3  946    0    0    0]\n",
            " [   0    3   13    2    0    1    0 1003    0    6]\n",
            " [   3    0    1    4    3    3    0    3  955    2]\n",
            " [   5    2    2    7   11    4    0    7    2  969]]\n",
            "\n",
            " Accuracy: 98.06% \n",
            "\n",
            "Normalized confusion matrix\n"
          ],
          "name": "stdout"
        },
        {
          "output_type": "display_data",
          "data": {
            "image/png": "[encoded data removed]",
            "text/plain": [
              "<Figure size 432x288 with 2 Axes>"
            ]
          },
          "metadata": {
            "tags": [],
            "needs_background": "light"
          }
        }
      ]
    }
  ]
}